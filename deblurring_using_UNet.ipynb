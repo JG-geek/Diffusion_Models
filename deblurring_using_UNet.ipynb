{
  "nbformat": 4,
  "nbformat_minor": 0,
  "metadata": {
    "colab": {
      "provenance": [],
      "gpuType": "T4",
      "authorship_tag": "ABX9TyOIkAah05aYETF9FRFiZtDQ",
      "include_colab_link": true
    },
    "kernelspec": {
      "name": "python3",
      "display_name": "Python 3"
    },
    "language_info": {
      "name": "python"
    },
    "accelerator": "GPU"
  },
  "cells": [
    {
      "cell_type": "markdown",
      "metadata": {
        "id": "view-in-github",
        "colab_type": "text"
      },
      "source": [
        "<a href=\"https://colab.research.google.com/github/JG-geek/Diffusion_Models/blob/main/deblurring_using_UNet.ipynb\" target=\"_parent\"><img src=\"https://colab.research.google.com/assets/colab-badge.svg\" alt=\"Open In Colab\"/></a>"
      ]
    },
    {
      "cell_type": "markdown",
      "source": [
        "## setup and imports"
      ],
      "metadata": {
        "id": "ju4G1dJFmOmk"
      }
    },
    {
      "cell_type": "code",
      "execution_count": 8,
      "metadata": {
        "id": "MkLBkZ-TGLTP"
      },
      "outputs": [],
      "source": [
        "%pip install -q diffusers"
      ]
    },
    {
      "cell_type": "code",
      "source": [
        "import torch\n",
        "import torchvision\n",
        "from torch import nn\n",
        "from torch.nn import functional as F\n",
        "from torch.utils.data import DataLoader\n",
        "from diffusers import DDPMScheduler, UNet2DModel\n",
        "from matplotlib import pyplot as plt\n",
        "from tqdm import tqdm\n",
        "\n",
        "device = torch.device(\"cuda\" if torch.cuda.is_available() else \"cpu\")\n",
        "print(f'Using device: {device}')"
      ],
      "metadata": {
        "id": "barxs_8JmWWb",
        "outputId": "0794141c-b11d-4b3b-892d-c7c8df0568a3",
        "colab": {
          "base_uri": "https://localhost:8080/"
        }
      },
      "execution_count": 34,
      "outputs": [
        {
          "output_type": "stream",
          "name": "stdout",
          "text": [
            "Using device: cuda\n"
          ]
        }
      ]
    },
    {
      "cell_type": "markdown",
      "source": [
        "## load dataset"
      ],
      "metadata": {
        "id": "G2cMDTOGmZ37"
      }
    },
    {
      "cell_type": "code",
      "source": [
        "dataset = torchvision.datasets.MNIST(root=\"mnist/\", train=True, download=True, transform=torchvision.transforms.ToTensor())"
      ],
      "metadata": {
        "id": "g9nDLYL3mZTx"
      },
      "execution_count": 10,
      "outputs": []
    },
    {
      "cell_type": "code",
      "source": [
        "train_dataloader = DataLoader(dataset, batch_size=8, shuffle=True)\n",
        "images, labels = next(iter(train_dataloader))\n",
        "print('Input shape:', images.shape)\n",
        "print('Labels:', labels)\n",
        "plt.imshow(torchvision.utils.make_grid(images)[0], cmap='grey');"
      ],
      "metadata": {
        "id": "v-D-IAJFmgVK",
        "outputId": "11e53c98-9163-4567-e4ab-eae829f106ec",
        "colab": {
          "base_uri": "https://localhost:8080/",
          "height": 165
        }
      },
      "execution_count": 13,
      "outputs": [
        {
          "output_type": "stream",
          "name": "stdout",
          "text": [
            "Input shape: torch.Size([8, 1, 28, 28])\n",
            "Labels: tensor([0, 1, 6, 8, 3, 4, 6, 3])\n"
          ]
        },
        {
          "output_type": "display_data",
          "data": {
            "text/plain": [
              "<Figure size 640x480 with 1 Axes>"
            ],
            "image/png": "[encoded data removed]"
          },
          "metadata": {}
        }
      ]
    },
    {
      "cell_type": "markdown",
      "source": [
        "## UNet2DModel\n",
        "(from diffusers library)"
      ],
      "metadata": {
        "id": "4pHLAdCNqSr8"
      }
    },
    {
      "cell_type": "code",
      "source": [
        "model = UNet2DModel(\n",
        "        sample_size=28,           # the target image resolution\n",
        "        in_channels=1,\n",
        "        out_channels=1,           # the number of output channels\n",
        "        layers_per_block=2,       # how many ResNet layers to use per UNet block\n",
        "        block_out_channels=(32, 64, 64),\n",
        "        down_block_types=(\n",
        "            \"DownBlock2D\",        # a regular ResNet downsampling block\n",
        "            \"AttnDownBlock2D\",    # a ResNet downsampling block with spatial self-attention\n",
        "            \"AttnDownBlock2D\",\n",
        "        ),\n",
        "        up_block_types=(\n",
        "            \"AttnUpBlock2D\",\n",
        "            \"AttnUpBlock2D\",      # a ResNet upsampling block with spatial self-attention\n",
        "            \"UpBlock2D\",          # a regular ResNet upsampling block\n",
        "          ),\n",
        "    )"
      ],
      "metadata": {
        "id": "zc_1bCXimioy"
      },
      "execution_count": 14,
      "outputs": []
    },
    {
      "cell_type": "code",
      "source": [
        "## sanity check\n",
        "model.to(device)\n",
        "input = torch.randn(8, 1, 28, 28).to(device)\n",
        "output = model(input, 0)\n",
        "print('Output shape:', output.sample.shape)"
      ],
      "metadata": {
        "id": "1uJmceq3qslN",
        "outputId": "df8e26f9-e257-47b8-ee52-946f138d0cd6",
        "colab": {
          "base_uri": "https://localhost:8080/"
        }
      },
      "execution_count": 17,
      "outputs": [
        {
          "output_type": "stream",
          "name": "stdout",
          "text": [
            "Output shape: torch.Size([8, 1, 28, 28])\n"
          ]
        }
      ]
    },
    {
      "cell_type": "markdown",
      "source": [
        "## corrrupt the data"
      ],
      "metadata": {
        "id": "brO4rtcirLSf"
      }
    },
    {
      "cell_type": "code",
      "source": [
        "import numpy as np\n",
        "import cv2  # OpenCV for image blurring\n",
        "\n",
        "def smooth_gaussian(image, kernel_size=5, iterations=3):\n",
        "    \"\"\"\n",
        "    Apply Gaussian blurring multiple times to smooth the image more aggressively.\n",
        "\n",
        "    Parameters:\n",
        "    - image: Input image tensor of shape (1, H, W).\n",
        "    - kernel_size: Size of the Gaussian kernel.\n",
        "    - iterations: Number of times to apply the blur.\n",
        "\n",
        "    Returns:\n",
        "    - Smoothed image tensor of shape (1, H, W).\n",
        "    \"\"\"\n",
        "    image_np = image.cpu().numpy().squeeze()  # Move to CPU before converting\n",
        "    for _ in range(iterations):  # Apply multiple blurring passes\n",
        "        image_np = cv2.GaussianBlur(image_np, (kernel_size, kernel_size), 0)\n",
        "    return torch.tensor(image_np).unsqueeze(0).to(image.device)  # Convert back to tensor and move to original device"
      ],
      "metadata": {
        "id": "ww5ZSpKCq8g8"
      },
      "execution_count": 18,
      "outputs": []
    },
    {
      "cell_type": "code",
      "source": [
        "smoothed_image = smooth_gaussian(images[6], 9, 1)\n",
        "smoothed_image2 = smooth_gaussian(images[6], 5, 3)\n",
        "# show 2 images side by side\n",
        "# Create a figure and axes\n",
        "fig, axes = plt.subplots(1, 2, figsize=(10, 5))  # 1 row, 2 columns\n",
        "\n",
        "axes[0].imshow(smoothed_image.cpu().squeeze(), cmap='Greys')\n",
        "axes[0].set_title('kernel=9, iter=1')\n",
        "\n",
        "axes[1].imshow(smoothed_image2.cpu().squeeze(), cmap='Greys')\n",
        "axes[1].set_title('kernel=5, iter=3')\n",
        "\n",
        "plt.show()"
      ],
      "metadata": {
        "id": "kqimHkiqrbox",
        "outputId": "06b221c1-b8e1-45a0-bc1d-b33fd60c7329",
        "colab": {
          "base_uri": "https://localhost:8080/",
          "height": 435
        }
      },
      "execution_count": 32,
      "outputs": [
        {
          "output_type": "display_data",
          "data": {
            "text/plain": [
              "<Figure size 1000x500 with 2 Axes>"
            ],
            "image/png": "[encoded data removed]"
          },
          "metadata": {}
        }
      ]
    },
    {
      "cell_type": "code",
      "source": [
        "#@markdown Training loop (10 Epochs):\n",
        "\n",
        "# Redefining the dataloader to set the batch size higher than the demo of 8\n",
        "train_dataloader = DataLoader(dataset, batch_size=128, shuffle=True)\n",
        "\n",
        "# How many runs through the data should we do?\n",
        "n_epochs = 10\n",
        "\n",
        "# Our network\n",
        "model.to(device)\n",
        "\n",
        "# Our loss function\n",
        "loss_fn = nn.MSELoss()\n",
        "\n",
        "# The optimizer\n",
        "opt = torch.optim.Adam(model.parameters(), lr=1e-3)\n",
        "\n",
        "# Keeping a record of the losses for later viewing\n",
        "losses = []\n",
        "\n",
        "# The training loop\n",
        "for epoch in range(n_epochs):\n",
        "    for x, y in tqdm(train_dataloader):\n",
        "\n",
        "        # Get some data and prepare the corrupted version\n",
        "        x = x.to(device) * 2 - 1 # Data on the GPU (mapped to (-1, 1))\n",
        "        y = y.to(device)\n",
        "\n",
        "        blurred_x = torch.stack([smooth_gaussian(img,5,3) for img in x])\n",
        "        blurred_x = blurred_x.to(device)\n",
        "\n",
        "        # noise = torch.randn_like(x)\n",
        "        # timesteps = torch.randint(0, 999, (x.shape[0],)).long().to(device)\n",
        "        # noisy_x = noise_scheduler.add_noise(x, noise, timestep)\n",
        "\n",
        "        # Get the model prediction\n",
        "        pred = model(blurred_x, 0).sample # using timestep = 0 always\n",
        "\n",
        "        # Calculate the loss\n",
        "        loss = loss_fn(pred, x) # How close is the output to the input\n",
        "\n",
        "        # Backprop and update the params:\n",
        "        opt.zero_grad()\n",
        "        loss.backward()\n",
        "        opt.step()\n",
        "\n",
        "        # Store the loss for later\n",
        "        losses.append(loss.item())\n",
        "\n",
        "    # Print our the average of the loss values for this epoch:\n",
        "    avg_loss = sum(losses[-len(train_dataloader):])/len(train_dataloader)\n",
        "    print(f'Finished epoch {epoch}. Average loss for this epoch: {avg_loss:05f}')\n",
        "\n",
        "# View the loss curve\n",
        "plt.plot(losses)"
      ],
      "metadata": {
        "id": "oocpeueeuhAd",
        "outputId": "d22b1dbe-9af3-4833-9564-afbd68fa8e04",
        "colab": {
          "base_uri": "https://localhost:8080/"
        }
      },
      "execution_count": null,
      "outputs": [
        {
          "output_type": "stream",
          "name": "stderr",
          "text": [
            " 46%|████▌     | 214/469 [00:51<01:00,  4.21it/s]"
          ]
        }
      ]
    }
  ]
}